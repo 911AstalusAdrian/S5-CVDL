{
  "nbformat": 4,
  "nbformat_minor": 0,
  "metadata": {
    "colab": {
      "provenance": [],
      "collapsed_sections": []
    },
    "kernelspec": {
      "name": "python3",
      "display_name": "Python 3"
    },
    "language_info": {
      "name": "python"
    }
  },
  "cells": [
    {
      "cell_type": "markdown",
      "metadata": {
        "id": "wGpOGQHgVoKM"
      },
      "source": [
        "# Laboratory 2\n",
        "\n",
        "In this second laboratory you will implement and train a simple softmax classifier for images.\n",
        "Another important aspect that we'll be discussing today is how to properly evaluate a classifier.\n",
        "\n",
        "\n"
      ]
    },
    {
      "cell_type": "code",
      "metadata": {
        "id": "N0--EpYvTEM3"
      },
      "source": [
        "import os\n",
        "import sys\n",
        "import torch\n",
        "import numpy as np\n",
        "import matplotlib.pyplot as plt"
      ],
      "execution_count": null,
      "outputs": []
    },
    {
      "cell_type": "code",
      "metadata": {
        "id": "j6YAQldx8ZLt"
      },
      "source": [
        "![ -d cvdl_lab2_students ] || git clone https://github.com/dianalauraborza/cvdl_lab2_students.git"
      ],
      "execution_count": null,
      "outputs": []
    },
    {
      "cell_type": "markdown",
      "metadata": {
        "id": "MxfMZRro1rM9"
      },
      "source": [
        "## Warm-up. numpy exercise\n",
        "\n",
        "Let's start by implementing the softmax function. This function takes as input an array of *N* arbitrary numbers and normalizes the array such that the output is a probability distribution.\n",
        "\n",
        "\n",
        "\\begin{equation}\n",
        "softmax(x)_i = \\frac{e^{x_i}}{\\sum_{j = 0}^{j = N} e^{x_j}}\n",
        "\\end{equation}\n",
        "\n",
        "In the file *activations.py* write the implementation of the softmax function.\n",
        "\n",
        "**Short discussion about softmax numerical stability.** You can also check this [post](https://ogunlao.github.io/2020/04/26/you_dont_really_know_softmax.html).\n",
        "\n",
        "This code is found in _activations.py_ ."
      ]
    },
    {
      "cell_type": "code",
      "metadata": {
        "id": "opIOjvif1g0G"
      },
      "source": [
        "# validate softmax\n",
        "# let's check that you obtained the same values\n",
        "# as the softmax implementation in torch\n",
        "arr = np.asarray([2, 4, 10, 100, 2.0])\n",
        "assert (np.allclose(torch.nn.functional.softmax(torch.from_numpy(arr), dim=0).numpy(), softmax(arr)))\n",
        "arr = np.asarray([0.0, 0, 0, 1, 0])\n",
        "assert (np.allclose(torch.nn.functional.softmax(torch.from_numpy(arr), dim=0).numpy(), softmax(arr)))\n",
        "arr = np.asarray([-750.0, 23, 9, 10, 230])\n",
        "assert (np.allclose(torch.nn.functional.softmax(torch.from_numpy(arr), dim=0).numpy(), softmax(arr)))\n",
        "arr = np.ones((4, ))\n",
        "assert (np.allclose(torch.nn.functional.softmax(torch.from_numpy(arr), dim=0).numpy(), softmax(arr)))\n",
        "arr = np.zeros((4, ))"
      ],
      "execution_count": null,
      "outputs": []
    },
    {
      "cell_type": "markdown",
      "metadata": {
        "id": "BK_G-LNe1kW2"
      },
      "source": [
        "*Softmax temperature* is a concept that we'll be using later in this course. \n",
        "The *softmax temperature* is a hyper-parameter (positive number) which scales the input of the softmax function to modify the output probabilities.\n",
        "\n",
        "\n",
        "\\begin{equation}\n",
        "s(x, T)_i = \\frac{e^{x_i/T}}{\\sum_{j = 0}^{j = N} e^{x_j/T}}\n",
        "\\end{equation}\n",
        "\n",
        "Now modify your implementation of the softmax function such that it also takes as input the softmax temperature (a positive floating point number). If this parameter is not specified, it should default to 1.\n"
      ]
    },
    {
      "cell_type": "markdown",
      "metadata": {
        "id": "FYt1HAeE3Joc"
      },
      "source": [
        "Now let's visualise what is the effect of the softmax temperature. \n",
        "Given the input vector *x = [100, 2, -150, 75, 99, 3]* , plot the original vector and the softmax with temperatures $ T \\in \\{0.25, 0.75, 1, 1.5, 2, 5, 10, 20, 30\\} $.\n",
        " \n",
        "You can use a bar plot for this. The title for each plot should be the value of the softmax temperature. Also, make sure that for all the plots the range of the *y* axis is set to (0, 1).\n",
        "\n",
        "This code is found in _activations.py_ .\n",
        " "
      ]
    },
    {
      "cell_type": "code",
      "metadata": {
        "id": "RCgonLQB60lH"
      },
      "source": [
        "# your code here\n",
        "import matplotlib.pyplot as plt\n",
        "x = np.asarray([20, 30, -15, 45, 39, -10])\n",
        "T = [0.25, 0.75, 1, 1.5, 2, 5, 10, 20, 30]\n",
        "\n",
        "for idx in range(0, len(T)):\n",
        "  # TODO your code here\n",
        "  # plot the result of applying the softmax function \n",
        "  # with different temperatures on the array x\n",
        "  \n",
        "  # end TODO your code here\n",
        "  pass\n",
        "\n"
      ],
      "execution_count": null,
      "outputs": []
    },
    {
      "cell_type": "markdown",
      "metadata": {
        "id": "ssG32V9U3dZt"
      },
      "source": [
        "Analyse the plots and answer the following questions:\n",
        "* What happens when we use a large number for the softmax temperature?\n",
        "* What happens when we use a small number (i.e. less than 1) for the softmax temperature?\n",
        "* In the context of image classification, the predicted class is determined by taking the *argmax* of the softmax function. Does the softmax temperature change in any way this prediction?"
      ]
    },
    {
      "cell_type": "markdown",
      "metadata": {
        "id": "MOMOuotipyB6"
      },
      "source": [
        "## Image classification using a linear classifier in pytorch\n",
        "\n",
        "\n",
        "Image classification refers to the problem of automatically assigning a label (a class) to an image $X_i$. As classification is a supervised learning problem, each image is assigned a ground truth label $y_i \\in \\{1, 2, ..., C\\}$.\n",
        " \n",
        "A linear classifier uses a function $f$ to map an input image $X_i \\in R^{H\\times W\\times 3}$ into a vector of C class scores  $\\hat y_i \\in R^C$:\n",
        " \n",
        "\\begin{equation}\n",
        "f(X_i) = X_i \\cdot W + b\n",
        "\\end{equation}\n",
        " \n",
        "The learnable parameters of the classifier are the weight matrix $W$ and the bias vector $b$. Using the bias trick the bias term can be included in the weight matrix.\n",
        " \n",
        "During the training process, the values of the weight matrix are learned by minimizing a loss function (that penalises the discrepancy between the predicted and the ground truth label).\n",
        " \n",
        "In your implementation, the bias trick is used so the bias value is already added in the weight matrix. In the file _train.py_:\n",
        "\n",
        "\n",
        "```\n",
        "X_train = np.hstack([X_train, np.ones((X_train.shape[0], 1))])\n",
        "X_test = np.hstack([X_test, np.ones((X_test.shape[0], 1))])\n",
        "```\n",
        " \n",
        "## Implementation\n",
        "\n",
        "[Pytorch](https://pytorch.org/) is a powerful machine learning framework widely used for computer vision and natural language processing applications that we'll be using this semester.\n",
        "[Tensors](https://pytorch.org/docs/stable/tensors.html) are the main data abstraction from pytorch; similar to numpy arrays, they represent multi-dimensional arrays of a single data type. \n",
        "It is quite easy to transform tensors to and from numpy arrays:\n",
        "- _from_numpy()_ function allows you to create a pytorch tensor from a numpy array.\n",
        "- _numpy()_ functions allows you to convert a tensor to a numpy() array.\n",
        "\n",
        "Also, you will use the function _item()_ to convert a tensor to a scalar python value.\n",
        " \n",
        "### Softmax classification\n",
        " \n",
        "We'll follow an object oriented approach to solve this problem.\n",
        "All the code related to the softmax classifier will be implemented in the class *SoftmaxClassifier* (defined in the script _softmax.py_).\n",
        " \n",
        "The class comprises the following methods:\n",
        " \n",
        "| Method                               | Description |\n",
        "| ----------- | ----------- |\n",
        "| initialize()      | This function randomly initializes the weights of the linear classifier.    |\n",
        "| fit(X_train, y_train, **kwargs)      | This function will learn the weights of the model based on the training data samples (X_train) and their corresponding ground truth (y_train)       |\n",
        "|  predict(X)                | This function will return the classifier's prediction (the predicted class) for the data passed as parameter.        |\n",
        "|  predict_proba(X)                | This function will return the classifier's predictions for the data passed as parameters.        |\n",
        "|  save(path)   | This function will dump the weights of the classifier in the path specified as parameter.        |\n",
        "|  load(load)   | This function will load the classifier's weights from the path specified as parameter      |\n",
        " \n",
        "Feel free to add any additional helper methods if needed.\n",
        " \n",
        "#### Initialization and persistence \n",
        "* the constructor of this class takes as input the flattened size of the input image and the number of output classes, sets the corresponding class variables and calls the _init()_ method.\n",
        "* fill in the _initialize()_ method. You figure out the shape of the weight matrix based on the input shape and the number of classes. Initialize the weight matrix with small random variables.\n",
        "__The bias trick is already implemented__!\n",
        "* fill in the _save_ and _load_ functions. In these functions you should just dump and restore, respectively, the weight matrix to/from the specified file.\n",
        " \n",
        "#### Inference - the _predict_ and _predict\\_proba_ methods\n",
        " \n",
        "The inference is quite simple. You just need to compute the dot product between the input and the weight matrix.\n",
        "You will implement two inference methods:\n",
        "* _predict_ - this will just return the predicted class label. So you just need to compute the dot product and take the argmax of the result.\n",
        "* _predict\\_proba_ - this will return the class probabilities. So after computing the dot product, you also need to apply the softmax function on the result to normalize it to a probability distribution.\n",
        "\n",
        "#### Training - the _fit_ method\n",
        "\n",
        "Pytorch provides a powerful feature, _autograd_: it allows for the rapid and easy computation of multiple partial derivatives (also referred to as gradients) over a complex computation. This operation is central to backpropagation-based neural network learning.\n",
        "\n",
        "You can follow [this](https://pytorch.org/tutorials/beginner/introyt/autogradyt_tutorial.html) post for more details about how autograd works.\n",
        "We'll cover autograd in more detail in the next labs.\n",
        "\n",
        "For now, we'll be using it to make your life easier when implementing gradient descent to train the softmax classifier. In gradient descent, the idea is to take repeated steps in the opposite direction of the gradient of the loss function at the current point. The backpropagation algorithm works by computing the gradient of the loss function with respect to each weight by the chain rule, computing the gradient one layer at a time, and iterating backward from the last layer to avoid redundant calculations of intermediate terms in the chain rule.\n",
        "\n",
        "To signal autograd that it should collect the gradients of a tensor, you need to pass the parameter _requires_grad=True_ when creating it.\n",
        "To start the backpropagation with autograd, you just need to call the _backward()_ function on the loss tensor.  Autograd calculates and stores the gradients for each model parameter in the tensors' _grad_ field.\n",
        "\n",
        "\n",
        " \n",
        "__Follow the suggestions in the comments to implement these functions.__\n",
        "\n",
        " "
      ]
    },
    {
      "cell_type": "markdown",
      "metadata": {
        "id": "fmzh0QjSMind"
      },
      "source": [
        "## Dataset\n",
        "\n",
        "We'll be using CIFAR-10 dataset. \n",
        "The dataset comprises 60000 colour images with a resolution of $32 \\times 32$, separated into 10 classes, with 6000 images per class. It is already split into train-test subsets, with 50000 training images and 10000 test images.\n",
        "\n",
        "You can download the data from this [link](https://www.cs.toronto.edu/~kriz/cifar-10-python.tar.gz)."
      ]
    },
    {
      "cell_type": "code",
      "metadata": {
        "id": "HjTfrvpG3b8L"
      },
      "source": [
        "!wget https://www.cs.toronto.edu/~kriz/cifar-10-python.tar.gz\n",
        "!tar -xvf cifar-10-python.tar.gz"
      ],
      "execution_count": null,
      "outputs": []
    },
    {
      "cell_type": "markdown",
      "metadata": {
        "id": "gIyze33iqbWC"
      },
      "source": [
        "In the script *cifar10.py* you will complete the function *load_cifar10*, which load the data from the archive you just downloaded.\n",
        "\n",
        "The images of this dataset are are stored in a numpy array, one image per row, in the following order:\n",
        "\n",
        "\"_The first 1024 entries contain the red channel values, the next 1024 the green, and the final 1024 the blue. The image is stored in row-major order, so that the first 32 entries of the array are the red channel values of the first row of the image._\"\n",
        "\n",
        "Your task here is just to manipulate this array, such that each image has the shape (32, 32, 3) and uses RGB ordering."
      ]
    },
    {
      "cell_type": "markdown",
      "metadata": {
        "id": "FrwvGq7bhLXb"
      },
      "source": [
        "Now let's visualize some of the images from the CIFAR-10 dataset."
      ]
    },
    {
      "cell_type": "code",
      "metadata": {
        "id": "17wIc7-6hFst"
      },
      "source": [
        "  from lab2 import cifar10\n",
        "  cifar_root_dir = 'cifar-10-batches-py'\n",
        "  _, _, X_test, y_test = cifar10.load_ciaf10(cifar_root_dir)\n",
        "  indices = np.random.choice(len(X_test), 15)\n",
        "\n",
        "  display_images, display_labels = X_test[indices], y_test[indices]\n",
        "  for idx, (img, label) in enumerate(zip(display_images, display_labels)):\n",
        "      plt.subplot(3, 5, idx + 1)\n",
        "      plt.imshow(img)\n",
        "      plt.title(LABELS[label])\n",
        "      plt.tight_layout()\n",
        "  plt.show()"
      ],
      "execution_count": null,
      "outputs": []
    },
    {
      "cell_type": "markdown",
      "metadata": {
        "id": "S5U_lzCrht3-"
      },
      "source": [
        "## Putting it all together\n",
        "\n",
        "By now you have implemented all the blocks needed to train a softmax classifier. Now it is time to train the classifier using different hyperparameters.\n",
        "\n",
        "We'll be using a random search to tune the hyper-parameters of the classifier (the learning rate $\\lambda$ and the regularization strength $\\rho$).\n",
        "The _train.py_ script contains the code that you will use for training and comparing different settings for  $\\lambda$ and $\\rho$."
      ]
    },
    {
      "cell_type": "markdown",
      "metadata": {
        "id": "MwVLNAq7JPvU"
      },
      "source": [
        "## Classifier evaluation\n",
        " \n",
        "After the training process, you want to evaluate the model on the test set, such that you can get an idea on how well your model will perform on unseen data.\n",
        "Ideally the classes in the test set should be balanced (i.e. you should have the same number of samples for each one of the classes).\n",
        " \n",
        "### Confusion matrix and classification metrics\n",
        " \n",
        "The confusion matrix can be considered the foundation stone for evaluating a classifier. As the name states, it's a simple way of visualising whether/how the model is confusing the classes. \n",
        " \n",
        "Each row of the confusion matrix represents the instances of the ground truth class, while each column represents the instances of the predicted class.\n",
        " \n",
        "<img src=\"https://2.bp.blogspot.com/-EvSXDotTOwc/XMfeOGZ-CVI/AAAAAAAAEiE/oePFfvhfOQM11dgRn9FkPxlegCXbgOF4QCLcBGAs/s1600/confusionMatrxiUpdated.jpg\"/>\n",
        " \n",
        "Based on the confusion matrix, you can compute different classification metrics:\n",
        "* *accuracy*: this is simply the ratio between the correctly classified samples (either positive or negative) and the total number of samples;\n",
        "* _precisi**on**_ : this metric measures the ability of the classifier to capture **only** relevant samples;\n",
        "* _rec**all**_ : this metric measures the ability of the classifier to spot **all** positive samples.\n",
        " \n",
        "As you may have noticed, it is not possible to maximize precision and recall at the same time, as one comes at the cost of another. \n",
        "Therefore, the $F_1$ score -- the harmonic mean between precision and recall -- was defined to combine these two metrics into a single numerical value.\n",
        " \n",
        "\\begin{equation}\n",
        "F_1 = 2 \\cdot \\frac{precision \\cdot recall}{precision + recall}\n",
        "\\end{equation}\n",
        " \n",
        "In the file *metrics.py* you should fill in the code for computing the accuracy, precision, recall and f1-score of your classifier.\n",
        " \n",
        "One challenge when implementing these metrics is that you are not allowed to use any repetitive loops (only numpy vectorization).\n",
        " \n",
        "\n",
        "## Additional questions\n",
        " \n",
        "You want to measure the air quality in your city, so you bought an air quality sensor. \n",
        " \n",
        "However, you notice that your sensor always returns an air quality index equal to 75, no matter where you place it.\n",
        " \n",
        "* What can you say about the precision of the measurements that you perform?\n",
        "What about the accuracy of these measurements?\n"
      ]
    },
    {
      "cell_type": "markdown",
      "metadata": {
        "id": "lT2CaJ3AhqHV"
      },
      "source": []
    },
    {
      "cell_type": "markdown",
      "metadata": {
        "id": "u0y6fkhMEcUS"
      },
      "source": [
        "Compute the metrics on the best classifier you obtained so far."
      ]
    },
    {
      "cell_type": "code",
      "metadata": {
        "id": "o988iS9KM_RY"
      },
      "source": [
        "Your answer = 'my answer' #@param {type:\"string\"}"
      ],
      "execution_count": null,
      "outputs": []
    },
    {
      "cell_type": "markdown",
      "metadata": {
        "id": "g6_XFTsTNAXM"
      },
      "source": [
        "You determined that the sensor is broken, so you change it with a brand new one. Now everything seems to be ok.\n",
        " \n",
        "To measure the air quality around your house, you place the sensor in different areas: near your favourite scented candle, under your gas central heating exhaust pipe, on your balcony oriented towards the forest/ocean/mountains :) etc.\n",
        " \n",
        "* What can you say about the precision of the measurements that you perform? What about the accuracy of these measurements?\n"
      ]
    },
    {
      "cell_type": "code",
      "metadata": {
        "cellView": "form",
        "id": "OOSlFpD8NwBm"
      },
      "source": [
        "Your answer = '' #@param {type:\"string\"}"
      ],
      "execution_count": null,
      "outputs": []
    },
    {
      "cell_type": "markdown",
      "source": [
        "# Extra credit. Implementing the fit method of the classifier from scratch\n",
        "\n",
        "The training process is implemented in the function _fit_.\n",
        "The loss function for the softmax classifier is defined as:\n",
        " \n",
        "\\begin{equation}\n",
        "L_i = - log(\\frac{e^{f_{y_i}}}{\\sum_{j}e^{f_j}}).\n",
        "\\end{equation}\n",
        " \n",
        "We just take the negative of the logarithm of the predicted probability for the ground truth class.\n",
        "In the case of the softmax classifier $\\hat y_i$ is always a value in the interval [0, 1] (we use the softmax function to normalize the logits into a probability distribution). \n",
        "When the probability of the ground truth class is small (i.e. close to 0), the loss will be very high (theoretically, infinite) [log(0) = -inf]. On the other hand, when the probability of the correct class will be high (i.e. close to 1), then the loss will be close to 0 [log(1) = 0].\n",
        " \n",
        "The loss for can be rewritten as (and this is what you should implement in your code):\n",
        " \n",
        "\\begin{equation}\n",
        "L_i = - f_{y_i} + log(\\sum_{j}e^{f_j}).\n",
        "\\end{equation}\n",
        " \n",
        "In the equation above $f(\\cdot)$ is the linear score function $f(X_i) = X_i \\cdot W $.\n",
        "To get the value for $f_{y_i}$ (i.e. the score for the ground truth class), you can use numpy indexing.\n",
        " \n",
        "For training the classifier, the loss function must be minimized.\n",
        " Using the gradient descent algorithm, the weights of the classifier are updated by taking small steps in the opposite direction of the gradient.\n",
        " \n",
        "\\begin{equation}\n",
        "W += -\\lambda * dW \n",
        "\\end{equation}\n",
        ", where W is the weight matrix and dW is the gradient with respect to the weight matrix. $\\lambda$ is the learning rate (a hyper-parameter of the model).\n",
        " \n",
        "The first step is to determine the analytical gradient of the loss function with respect to parameters of the classifier.\n",
        " \n",
        "For a detailed derivation of the gradient for the softmax loss you can check out this [post](https://eli.thegreenplace.net/2016/the-softmax-function-and-its-derivative/).\n",
        " \n",
        "\n",
        "To compute the gradient you need to perform the following operation:\n",
        " \n",
        "\\begin{equation}\n",
        "dW = X^T \\cdot CT .\n",
        "\\end{equation}\n",
        " \n",
        " , where X stores the images in the current batch, $^T$ is the transpose operator, $\\cdot$ (X^T \\cdot CT) is the dot product, and CT is an n-dimensional array of shape _(batch\\_size, C)_ and each row _i_ of CT is defined as\n",
        "\\begin{equation}\n",
        "CT_{i} = s(X_i \\cdot W) - \\delta_{y_i}\n",
        "\\end{equation}\n",
        " \n",
        "In the equation above $s(\\cdot)$ is the softmax function, $X_i$ is the i-th training example and $\\delta_{y_i}$ is the one hot encoded value of the ground truth $y_i$ (i.e a vector of size C (number of classes) filled with zeros, except for the index of the ground truth class where we have a value of 1). \n",
        "In other words, you will use the predicted softmax probabilities, but for the ground truth class you need to subtract 1 from it.\n",
        " \n",
        "If we look at an example, this makes sense.\n",
        "Let's say that we have a problem with $C = 4$ classes and for a particular example $X_i$ with ground truth class $y_i$ is 2 (classes start at 0), the classifier predicted: $[0.2, 0.2, 0.5, 0.1]$.\n",
        "The derivative would be $[0.2, 0.2, -0.5, 0.1]$. You can observe that the component for the ground truth class has a negative influence on the loss, so increasing the probability for the ground truth class would result in a lower loss. However, if the classifier increases the probabilities for any of the other classes, this would increase the values of the loss, which is the opposite of our goal (minimizing the loss function).\n",
        " \n",
        "Remember from the lecture that, in order to avoid overfitting, a regularization term is added to the loss function. \n",
        " \n",
        "You will implement the $L_2$ regularization, in which you also add the  sum of squares of all of the feature weights to the loss.\n",
        " \n",
        "\\begin{equation}\n",
        "L_t = \\frac{1}{N} \\sum_i L_i + \\rho \\cdot \\sum_r \\sum_c W_{(r, c)}^2.\n",
        "\\end{equation}\n",
        " \n",
        "$\\rho$ is the regularization strength, another hyper-parameter of the model.\n",
        " \n",
        "Also, don't forget to add the derivative of the regularization term to the loss.\n",
        "The gradient with respect to the regularization term is straight forward, it is simply the weight matrix.\n",
        "You will use mini-batch gradient descent, in which you will perform the parameter update after \"seeing\" a batch of samples.\n",
        " \n",
        "**Note-1**: in the starter code, you already have the bias trick implemented. Each example in the training and test set has a value of 1 appended to it.\n",
        " \n",
        "**Note-2** You should use vectorization when implementing this.\n",
        "For example, when computing the score function $f(\\cdot)$, $X$ would be a matrix of shape $(bs, D)$ and $W$ a matrix of shape (D, C), where bs is the batch size, D is the size of the input and C is the number of classes. So the result would be a matrix of scores of shape $(bs, C)$, in which you will store, on each line _i_, the predicted scores (a vector of size C) for the _i_-th training example.\n",
        "\n",
        "\n",
        "---\n",
        "\n"
      ],
      "metadata": {
        "id": "lMWItb3pC4-h"
      }
    }
  ]
}